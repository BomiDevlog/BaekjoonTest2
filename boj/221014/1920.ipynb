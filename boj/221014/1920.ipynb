{
 "cells": [
  {
   "cell_type": "code",
   "execution_count": null,
   "metadata": {},
   "outputs": [],
   "source": [
    "# https://www.acmicpc.net/problem/1920\n",
    "\n"
   ]
  },
  {
   "cell_type": "code",
   "execution_count": null,
   "metadata": {},
   "outputs": [],
   "source": [
    "# https://velog.io/@deannn/BOJ-%EB%B0%B1%EC%A4%80-1920%EB%B2%88-%EC%88%98-%EC%B0%BE%EA%B8%B0-Python"
   ]
  },
  {
   "cell_type": "code",
   "execution_count": null,
   "metadata": {},
   "outputs": [],
   "source": [
    "# 이분탐색을 이용한 방법이다. 문제에서 의도한 답\n",
    "\n",
    "# 입력\n",
    "N = int(input())\n",
    "A = list(map(int, input().split()))\n",
    "M = int(input())\n",
    "arr = list(map(int, input().split()))\n",
    "A.sort()\t\t\t# A 정렬\n",
    "\n",
    "# arr의 각 원소별로 이분탐색\n",
    "for num in arr:\n",
    "    lt, rt = 0, N - 1\t\t# lt는 맨 앞, rt는 맨 뒤\n",
    "    isExist = False\t\t# 찾음 여부\n",
    "\n",
    "    # 이분탐색 시작\n",
    "    while lt <= rt:\t\t# lt가 rt보다 커지면 반복문 탈출\n",
    "        mid = (lt + rt) // 2\t# mid는 lt와 rt의 중간값\n",
    "        if num == A[mid]:\t# num(목표값)이 A[mid]값과 같다면 (목표값 존재여부를 알았다면)\n",
    "            isExist = True\t# isExist Ture 변경\n",
    "            print(1)\t\t# 1 출력\n",
    "            break\t\t# 반복문 탈출\n",
    "        elif num > A[mid]:\t# A[mid]가 num보다 작으면\n",
    "            lt = mid + 1\t# lt를 높임\n",
    "        else:\t\t\t# A[mid]가 num보다 크다면\n",
    "            rt = mid - 1\t# rt를 낮춤\n",
    "\n",
    "    if not isExist:\t\t# 찾지 못한 경우\n",
    "        print(0)\t\t# 0 출력"
   ]
  },
  {
   "cell_type": "code",
   "execution_count": null,
   "metadata": {},
   "outputs": [],
   "source": [
    "# A를 정렬하지 않고 set으로 만들어 탐색하는 방법이다. 속도는 방법 1 보다는 더 빠르다.\n",
    "\n",
    "# 입력\n",
    "N = int(input())\n",
    "A = set(map(int, input().split()))\t# 탐색 시간을 줄이기 위해 set으로 받음\n",
    "M = int(input())\n",
    "arr = list(map(int, input().split()))\n",
    "\n",
    "for num in arr:\t\t\t\t# arr의 각 원소별로 탐색\n",
    "    print(1) if num in A else print(0)\t# num이 A 안에 있으면 1, 없으면 0 출력"
   ]
  },
  {
   "cell_type": "code",
   "execution_count": null,
   "metadata": {},
   "outputs": [],
   "source": [
    "# 직접 타이핑하며 연습\n",
    "\n",
    "import sys\n",
    "input = sys.stdin.readline\n",
    "\n",
    "N = int(input())\n",
    "A = set(map(int, input().split())) # 탐색 시간을 줄이기 위해 set으로 풀이\n",
    "M = int(input())\n",
    "a_list = list(map(int, input().split())) #M개의 수들 # a 수들이 A 안에 존재하는지 알아내야 함\n",
    "\n",
    "for num in a_list:\t\t\t\t# a_list의 각 원소별로 탐색\n",
    "    print(1) if num in A else print(0)\t# A 안에 있으면 1, 없으면 0 출력"
   ]
  }
 ],
 "metadata": {
  "language_info": {
   "name": "python"
  },
  "orig_nbformat": 4
 },
 "nbformat": 4,
 "nbformat_minor": 2
}
