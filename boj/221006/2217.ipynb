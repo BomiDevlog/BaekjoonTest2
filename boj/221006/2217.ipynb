{
 "cells": [
  {
   "cell_type": "markdown",
   "metadata": {},
   "source": [
    "https://www.acmicpc.net/problem/2217\n",
    "2217번 로프\n",
    "첫째 줄에 정수 N이 주어진다. \n",
    "다음 N개의 줄에는 각 로프가 버틸 수 있는 최대 중량이 주어진다.\n",
    "\n",
    "그리디 알고리즘, 정렬\n",
    "\n",
    "*문제이해\n",
    "3 6 10 15가 있다면, \n",
    "\n",
    "3 입장에선 3 3 3 3\n",
    "6 입장에서는 3을 쓰지 않고, 6 6 6을 쓰는 것\n",
    "10 입장에서는 3,6을 쓰지 않고 10 10\n",
    "15입장에서는 15만 쓰는 것\n",
    "\n",
    "이렇게 4가지 경우가 나온다. 이 중의 max값을 출력하면 되는 것이다.\n",
    "https://blog.naver.com/willyouspeedup/222872726341"
   ]
  },
  {
   "cell_type": "code",
   "execution_count": 7,
   "metadata": {},
   "outputs": [
    {
     "name": "stdout",
     "output_type": "stream",
     "text": [
      "None\n"
     ]
    }
   ],
   "source": [
    "# 틀렸습니다ㅠㅠ : 최솟값으로 접근하는게 아니다ㅜㅜ\n",
    "\n",
    "N = int(input()) # 로프 개수\n",
    "\n",
    "ropes = []\n",
    "for _ in range(N): #2\n",
    "    ropes.append(int(input()))\n",
    "\n",
    "# print(rope) # [10, 15]\n",
    "# print(rope.sort())# None\n",
    "\n",
    "def find_min(ropes) :\n",
    "    min_value = ropes[0] # 검사 전 첫 요소를 최소값 간주\n",
    "    min_index = 0\n",
    "\n",
    "    for ix, rope in enumerate(ropes):\n",
    "        if rope < min_value:\n",
    "            min_value = rope\n",
    "            min_index = ix\n",
    "\n",
    "    return min_index\n",
    "\n",
    "min_index= find_min(ropes)\n",
    "print(ropes[min_index]*N)\n",
    "# rope의 가장 작은 것을 n개만큼 곱한 수가 최대중량"
   ]
  },
  {
   "cell_type": "code",
   "execution_count": null,
   "metadata": {},
   "outputs": [],
   "source": [
    "# https://puleugo.tistory.com/30\n",
    "# 런타임 에러 (ValueError)\n",
    "N = int(input()) # 로프 개수\n",
    "\n",
    "ropes = []\n",
    "for _ in range(N): #2\n",
    "    ropes.append(int(input()))\n",
    "ropes.sort()\n",
    "\n",
    "result = []\n",
    "for i in result:\n",
    "    result.append(i*N)\n",
    "    N-=1\n",
    "print(max(result))"
   ]
  },
  {
   "cell_type": "code",
   "execution_count": 14,
   "metadata": {},
   "outputs": [
    {
     "name": "stdout",
     "output_type": "stream",
     "text": [
      "[57, 61, 94, 40, 14, 71, 72, 23, 80, 1]\n",
      "[1, 14, 23, 40, 57, 61, 71, 72, 80, 94]\n",
      "[55, 40, 11, 68, 80, 41, 32, 74, 30, 53]\n",
      "[11, 30, 32, 40, 41, 53, 55, 68, 74, 80]\n",
      "**********\n",
      "[9, 99, 97, 45, 87, 95, 2, 95, 19, 15]\n",
      "[99, 97, 95, 95, 87, 45, 19, 15, 9, 2]\n",
      "[47, 61, 58, 37, 97, 91, 52, 3, 95, 89]\n",
      "[97, 95, 91, 89, 61, 58, 52, 47, 37, 3]\n"
     ]
    }
   ],
   "source": [
    "# 정렬 설명\n",
    "# https://codingcoding.tistory.com/1030\n",
    "import random\n",
    "def makeRandoms(size):\n",
    "    result = []\n",
    "    for i in range(size):\n",
    "        result.append(random.randrange(100))\n",
    "    return result\n",
    "\n",
    "# 1. 정방향 정렬 (오름차순)\n",
    "value1= makeRandoms(10)\n",
    "print(value1)\n",
    "\n",
    "value1.sort()\n",
    "print(value1)\n",
    "\n",
    "value2= makeRandoms(10)\n",
    "print(value2)\n",
    "\n",
    "b = sorted(value2)\n",
    "print(b)\n",
    "\n",
    "print('*'*10)\n",
    "\n",
    "# 2. 역방향 정렬 (내림차순)\n",
    "value3= makeRandoms(10)\n",
    "print(value3)\n",
    "\n",
    "value3.sort(reverse=True)\n",
    "print(value3)\n",
    "\n",
    "value4= makeRandoms(10)\n",
    "print(value4)\n",
    "\n",
    "d = sorted(value4,reverse=True )\n",
    "print(d)\n"
   ]
  },
  {
   "cell_type": "code",
   "execution_count": 15,
   "metadata": {},
   "outputs": [
    {
     "name": "stdout",
     "output_type": "stream",
     "text": [
      "20\n"
     ]
    }
   ],
   "source": [
    "# https://jitolit.tistory.com/134\n",
    "# 정답입니당!\n",
    "\n",
    "N = int(input()) # 로프 개수\n",
    "\n",
    "ropes = []\n",
    "for _ in range(N): \n",
    "    ropes.append(int(input())) # 로프의 최대 중량\n",
    "\n",
    "ropes.sort(reverse=True) # 내림차순 정렬\n",
    "\n",
    "result = [] # 결과값을 넣어서 최댓값을 꺼내서 출력! \n",
    "for i in range(N):\n",
    "    result.append(ropes[i]*(i+1))\n",
    "\n",
    "print(max(result)) # 로프들을 이용해 들어올릴 수 있는 최대 중량"
   ]
  },
  {
   "cell_type": "code",
   "execution_count": null,
   "metadata": {},
   "outputs": [],
   "source": [
    "# 가장 좋은 정답!! \n",
    "\n",
    "# readline을 쓰니 시간이 매우 단축!\n",
    "import sys\n",
    "input = sys.stdin.readline\n",
    "\n",
    "N=int(input()) # 로프 개수\n",
    "ropes=[]\n",
    "for _ in range(N): \n",
    "    ropes.append(int(input())) # 최대 중량 입력\n",
    "    \n",
    "ropes=sorted(ropes) #정렬 (오름차순)\n",
    "\n",
    "max_value=0 # 최댓값 구하기\n",
    "for i in range(N):\n",
    "    if ropes[i]*(N-i)>max_value:\n",
    "        max_value=ropes[i]*(N-i)\n",
    "\n",
    "print(max_value) \n",
    "\n",
    "# 리스트를 만들어서 최댓값 구하는것보다 \n",
    "# 조건문으로 최댓값구하는게 메모리, 시간면에서 더 우수한 성능!\n",
    "\n",
    "# https://blog.naver.com/willyouspeedup/222872726341"
   ]
  },
  {
   "cell_type": "code",
   "execution_count": null,
   "metadata": {},
   "outputs": [],
   "source": [
    "import sys\n",
    "input = sys.stdin.readline\n",
    "\n",
    "N = int(input()) # 로프 개수\n",
    "\n",
    "ropes = []\n",
    "for _ in range(N): \n",
    "    ropes.append(int(input())) # 로프의 최대 중량\n",
    "\n",
    "ropes.sort(reverse=True) # 내림차순 정렬\n",
    "\n",
    "result = [] # 결과값을 넣어서 최댓값을 꺼내서 출력! \n",
    "for i in range(N):\n",
    "    result.append(ropes[i]*(i+1))\n",
    "\n",
    "print(max(result)) # 로프들을 이용해 들어올릴 수 있는 최대 중량"
   ]
  }
 ],
 "metadata": {
  "kernelspec": {
   "display_name": "Python 3.9.13 64-bit",
   "language": "python",
   "name": "python3"
  },
  "language_info": {
   "codemirror_mode": {
    "name": "ipython",
    "version": 3
   },
   "file_extension": ".py",
   "mimetype": "text/x-python",
   "name": "python",
   "nbconvert_exporter": "python",
   "pygments_lexer": "ipython3",
   "version": "3.9.13"
  },
  "orig_nbformat": 4,
  "vscode": {
   "interpreter": {
    "hash": "81794d4967e6c3204c66dcd87b604927b115b27c00565d3d43f05ba2f3a2cb0d"
   }
  }
 },
 "nbformat": 4,
 "nbformat_minor": 2
}
