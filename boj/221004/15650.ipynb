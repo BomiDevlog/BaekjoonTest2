{
 "cells": [
  {
   "cell_type": "markdown",
   "metadata": {},
   "source": [
    "https://www.acmicpc.net/problem/15650\n",
    "15650번 N과 M (2)\n",
    "\n",
    "자연수 N과 M이 주어졌을 때, 아래 조건을 만족하는 길이가 M인 수열을 모두 구하는 프로그램을 작성하시오.\n",
    "\n",
    "1부터 N까지 자연수 중에서 중복 없이 M개를 고른 수열\n",
    "고른 수열은 오름차순이어야 한다.\n",
    "\n",
    "첫째 줄에 자연수 N과 M이 주어진다. (1 ≤ M ≤ N ≤ 8)\n",
    "\n",
    "한 줄에 하나씩 문제의 조건을 만족하는 수열을 출력한다. 중복되는 수열을 여러 번 출력하면 안되며, 각 수열은 공백으로 구분해서 출력해야 한다.\n",
    "\n",
    "수열은 사전 순으로 증가하는 순서로 출력해야 한다."
   ]
  },
  {
   "cell_type": "markdown",
   "metadata": {},
   "source": [
    "모든 경우의 수를 검색할거지만 => Brute force, DFS\n",
    "\n",
    "​\n",
    "\n",
    "m에 따라 for 개수가 달라지니까 => DFS\n",
    "\n",
    "​\n",
    "\n",
    "모두 다 탐색하는 게 아니라 중간에 탐색을 종료할 조건이 명확하다.\n",
    "\n",
    "1) 방문하지 않은 숫자만(순열, DFS) 방문한다. 방문했을 경우 탐색 자체를 하지 않아야 한다. (DFS, 백트래킹)\n",
    "\n",
    "2) n=4, m=4라면 a<b<c<d  순서대로 오름차순이어야 한다.(순열의 특징) 오름차순이 아닐 경우 탐색 자체를 하지 않아야 한다. (DFS, 백트래킹)\n",
    "\n",
    "=> 백트래킹, DFS"
   ]
  },
  {
   "cell_type": "code",
   "execution_count": null,
   "metadata": {},
   "outputs": [],
   "source": []
  },
  {
   "cell_type": "code",
   "execution_count": null,
   "metadata": {},
   "outputs": [],
   "source": [
    "n, m = list(map(int, input().split())) # 3 1 입력 => n=3, m=1  : 입력수, 자리수\n",
    "\n",
    "n"
   ]
  },
  {
   "cell_type": "code",
   "execution_count": 2,
   "metadata": {},
   "outputs": [
    {
     "data": {
      "text/plain": [
       "3"
      ]
     },
     "execution_count": 2,
     "metadata": {},
     "output_type": "execute_result"
    }
   ],
   "source": [
    "\n",
    "n, m = list(map(int, input().split())) \n",
    "\n",
    "s=[] # 각 케이스를 담아줄 수열 리스트\n"
   ]
  },
  {
   "cell_type": "code",
   "execution_count": null,
   "metadata": {},
   "outputs": [],
   "source": [
    "# https://blog.naver.com/willyouspeedup/222848216704\n",
    "import sys\n",
    "input = sys.stdin.readline\n",
    "\n",
    "#dfs는 깊이 우선 탐색. 재귀 함수로 구현한다. \n",
    "def dfs():\n",
    "    #탐색 종료 조건 (★하나의 dfs가 종료되는 조건)\n",
    "    if len(s)==m+1: #m개수만큼 들어오면 출력하고 종료한다.\n",
    "        for i in s: \n",
    "            if i!=0: #0번째 빼고 모두 가로로 출력해준다.\n",
    "                print(i,end=' ')\n",
    "        print()\n",
    "        return #종료\n",
    "    \n",
    "    #탐색하며 s에 담고 뺴고 하기\n",
    "    for i in range(1,n+1): #i=1,2,3,4\n",
    "        if visited[i-1]==False and s[-1]<i : #방문하지 않은 경우 + s의 가장 큰 값보다 큰 경우에만 방문한다.\n",
    "            visited[i-1]=True #방문함\n",
    "            s.append(i) #방문함\n",
    "            dfs()\n",
    "            #★여기로 내려왔다는 것은 case 한개가 출력되었다는 것.\n",
    "            s.pop()\n",
    "            visited[i-1]=False\n",
    "            #print(i,s,visited)\n",
    "            #print()\n",
    "            \n",
    "\n",
    "n, m = map(int, input().split())\n",
    "s=[0] #오름차순 탐색을 위해 0을 담아놔준다. # 각 케이스를 담아줄 리스트\n",
    "visited=[False]*n #n개만큼 F를 만들어준다. 방문한 상태면 T가 된다.\n",
    "dfs() #탐색 시작\n",
    "\n",
    "# 1번 문제에 비해\n",
    "# s=[0] \n",
    "#  if visited[i-1]==False and s[-1]<i :\n",
    "#  if i!=0:\n",
    "\n",
    "# ​이 3가지만 추가되었다.\n",
    "# # "
   ]
  },
  {
   "cell_type": "code",
   "execution_count": 3,
   "metadata": {},
   "outputs": [
    {
     "data": {
      "text/plain": [
       "list"
      ]
     },
     "execution_count": 3,
     "metadata": {},
     "output_type": "execute_result"
    }
   ],
   "source": [
    "# [문제] 백준 15650 - <N과 M (2)>\n",
    "# [제출일] 2022.10.04\n",
    "# [사용언어] python\n",
    "# [문제핵심] 백트래킹 알고리즘 - 깊이 우선 탐색(DFS)\n",
    "\n",
    "n, m = map(int, input().split())\n",
    "s= [0]  # 각 케이스를 담을 리스트 : 오름차순 탐색을 위해 0을 담음\n",
    "visited = [False]*n  # n개의 False를 담은 리스트 생성 -> 방문하면 True로 변경\n",
    "\n",
    "def dfs():  \n",
    "    if len(s)==m+1 : # m 개수만큼 들어오면 출력하고 종료. (0추가했으니 m+1 길이 설정)\n",
    "        for i in s:\n",
    "            if i!=0:\n",
    "                print(i, end=' ')\n",
    "            print()\n",
    "            return # 탐색 종료 : 하나의 dfs가 종료되는 조건\n",
    "        \n",
    "        # 탐색하며 s에 담고 빼고 하기\n",
    "        for i in range(1, n+1): #1부터 n까지\n",
    "            if visited[i-1] == False and s[-1]<i : # 방문하지 않았고, s의 가장 큰 값보다 큰 경우만 방문\n",
    "                visited[i-1] == True # 방문함\n",
    "                s.append(i) # 해당 케이스를 리스트에 추가\n",
    "                dfs()\n",
    "\n",
    "                s.pop()\n",
    "                visited[i-1]=False\n",
    "\n",
    "dfs()\n",
    "\n",
    "# 틀렸습니다.ㅠㅠ"
   ]
  },
  {
   "cell_type": "code",
   "execution_count": null,
   "metadata": {},
   "outputs": [],
   "source": [
    "def dfs(start):\n",
    "    if len(s) == m: #리스트 s에 m개의 요소가 쌓이면 출력한다.\n",
    "        print(' '.join(map(str,s)))\n",
    "        return\n",
    "    for i in range(start, n+1):\n",
    "        if visited[i]:  #방문했는지 않았는지 판단\n",
    "            continue\n",
    "        visited[i] = True   #방문\n",
    "        s.append(i)\n",
    "        dfs(i+1)\n",
    "        s.pop()\n",
    "        visited[i] = False\n",
    "n,m = map(int,input().split())\n",
    "s=[]\n",
    "visited= [False]*(n+1)\n",
    "dfs(1)\n",
    "# https://blog.naver.com/pcb7893/222843939688\n",
    "\n"
   ]
  },
  {
   "cell_type": "code",
   "execution_count": null,
   "metadata": {},
   "outputs": [],
   "source": [
    "#  https://blog.naver.com/pcb7893/222843939688\n",
    "# 15651번\n",
    "# 앞선 15649번에서 방문 조건만 빼주면 된다\n",
    "def dfs():\n",
    "    if len(s) == m: #리스트 s에 m개의 요소가 쌓이면 출력한다.\n",
    "        print(' '.join(map(str,s)))\n",
    "        return\n",
    "    for i in range(1, n+1):\n",
    "        s.append(i)\n",
    "        dfs()\n",
    "        s.pop()\n",
    "n,m = map(int,input().split())\n",
    "s=[]\n",
    "visited= [False]*(n+1)\n",
    "dfs()\n"
   ]
  },
  {
   "cell_type": "code",
   "execution_count": null,
   "metadata": {},
   "outputs": [],
   "source": [
    "#  https://blog.naver.com/pcb7893/222843939688\n",
    "# 15652번\n",
    "# 앞선 15650번에서 방문 조건을 빼주면 풀 수 있다\n",
    "\n",
    "def dfs(start):\n",
    "    if len(s) == m: #리스트 s에 m개의 요소가 쌓이면 출력한다.\n",
    "        print(' '.join(map(str,s)))\n",
    "        return\n",
    "    for i in range(start, n+1):\n",
    "        s.append(i)\n",
    "        dfs(i)\n",
    "        s.pop()\n",
    "n,m = map(int,input().split())\n",
    "s=[]\n",
    "visited= [False]*(n+1)\n",
    "dfs(1)"
   ]
  },
  {
   "cell_type": "code",
   "execution_count": null,
   "metadata": {},
   "outputs": [],
   "source": [
    "# -------------"
   ]
  },
  {
   "cell_type": "code",
   "execution_count": null,
   "metadata": {},
   "outputs": [],
   "source": [
    "# 컴파일 에러\n",
    "n,m = map(int,input().split())\n",
    "s=[] # 각 케이스를 담아줄 리스트\n",
    "visited= [0]*(n+1) # False\n",
    "\n",
    "def dfs():\n",
    "    if len(s) == m: #리스트 s에 m개의 요소가 쌓이면 출력한다.\n",
    "        if(s==sorted(s)): # 정렬\n",
    "            print(' '.join(list(map(str,s)))\n",
    "        return\n",
    "    else:\n",
    "        for i in range(1, n+1):\n",
    "            if (visited[i]==1 or in ans):  #방문했는지 않았는지 판단\n",
    "                continue\n",
    "            else :\n",
    "                s.append(i)\n",
    "                visited[i] = 1 # True\n",
    "                dfs()\n",
    "                s.pop()\n",
    "                visited[i] = 0 #False\n",
    "\n",
    "dfs()"
   ]
  },
  {
   "cell_type": "code",
   "execution_count": null,
   "metadata": {},
   "outputs": [],
   "source": [
    "n,m = map(int,input().split())\n",
    "s=[] # 각 케이스를 담아줄 리스트\n",
    "visited= [0]*(n+1) # 오름차순 탐색을 위해 0을 담음 # 0 = False \n",
    "# 즉 n+1개의 False 리스트 생성해 방문 여부를 나타낸다\n",
    "\n",
    "def dfs():\n",
    "    if len(s) == m: #리스트 s에 m개의 요소가 쌓이면 출력\n",
    "        if s==sorted(s) : # 정렬\n",
    "            print(' '.join(list(map(str,s))))\n",
    "        return # 탐색 종료 : 하나의 dfs가 종료되는 조건\n",
    "    else:\n",
    "        for i in range(1, n+1):\n",
    "            if (visited[i]==1 or i in s):  #방문했거나 이미 존재하는 경우라면 continue\n",
    "                continue\n",
    "            else :\n",
    "                s.append(i)\n",
    "                visited[i] = 1 # True : 방문함\n",
    "                dfs()\n",
    "                s.pop()\n",
    "                visited[i] = 0 #False : 방문안함\n",
    "\n",
    "dfs()"
   ]
  },
  {
   "cell_type": "code",
   "execution_count": null,
   "metadata": {},
   "outputs": [],
   "source": []
  }
 ],
 "metadata": {
  "kernelspec": {
   "display_name": "Python 3.9.13 64-bit",
   "language": "python",
   "name": "python3"
  },
  "language_info": {
   "codemirror_mode": {
    "name": "ipython",
    "version": 3
   },
   "file_extension": ".py",
   "mimetype": "text/x-python",
   "name": "python",
   "nbconvert_exporter": "python",
   "pygments_lexer": "ipython3",
   "version": "3.9.13"
  },
  "orig_nbformat": 4,
  "vscode": {
   "interpreter": {
    "hash": "81794d4967e6c3204c66dcd87b604927b115b27c00565d3d43f05ba2f3a2cb0d"
   }
  }
 },
 "nbformat": 4,
 "nbformat_minor": 2
}
