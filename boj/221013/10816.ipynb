{
 "cells": [
  {
   "cell_type": "markdown",
   "metadata": {},
   "source": [
    "https://www.acmicpc.net/problem/10816\n",
    "10816번 숫자카드2"
   ]
  },
  {
   "cell_type": "code",
   "execution_count": null,
   "metadata": {},
   "outputs": [],
   "source": [
    "# 문제를 풀어갈 사고방향!\n",
    "\n",
    "\n",
    "# 상근 숫자카드 N개 입력\n",
    "# 카드 입력 -> 리스트 nlist\n",
    "\n",
    "# 전체 카드수M개 입력\n",
    "# 카드 입력 -> 리스트 mlist\n",
    "\n",
    "# s[0]와 일치하는 l이 몇개인지 개수 작성\n"
   ]
  },
  {
   "cell_type": "code",
   "execution_count": 5,
   "metadata": {},
   "outputs": [],
   "source": [
    "# 시간 초과 : list의 in을 통해 하면 시간 복잡도가 O(n)이 나오는데 수의 범위가 50만 정도로 매우 크기에 시간 초과가 발생\n",
    "\n",
    "import sys\n",
    "\n",
    "input = sys.stdin.readline\n",
    "\n",
    "N = int(input())\n",
    "nlist = []\n",
    "for _ in range(N) :\n",
    "    nlist.append(int(input).split())\n",
    "\n",
    "M= int(input())\n",
    "mlist = []\n",
    "for _ in range(M) :\n",
    "    mlist.append(int(input).split()) \n",
    "    \n",
    "    # mlist[i]요소들이 nlist에서 일치하는 개수가 몇개인지 작성\n",
    "\n",
    "result = [0]*M\n",
    "\n",
    "for i in range(M):\n",
    "    for j in range(N):\n",
    "        if mlist[i] == nlist[j] :\n",
    "            result[i]+=1\n",
    "\n",
    "print(result)\n",
    "\n"
   ]
  },
  {
   "cell_type": "code",
   "execution_count": 4,
   "metadata": {},
   "outputs": [
    {
     "data": {
      "text/plain": [
       "[0, 0, 0, 0, 0]"
      ]
     },
     "execution_count": 4,
     "metadata": {},
     "output_type": "execute_result"
    }
   ],
   "source": [
    "result = [0]*5\n",
    "result"
   ]
  },
  {
   "cell_type": "code",
   "execution_count": null,
   "metadata": {},
   "outputs": [],
   "source": [
    "# 문제에서 요구하는 것은 주어진 리스트 안에 내가 가지고 있는 카드가 몇개 있는지 세는 것이다."
   ]
  },
  {
   "cell_type": "code",
   "execution_count": 2,
   "metadata": {},
   "outputs": [],
   "source": [
    "import sys\n",
    "\n",
    "input = sys.stdin.readline\n",
    "\n",
    "N = int(input())\n",
    "nlist = list(map(int, input().split()))\n",
    "M= int(input())\n",
    "mlist = list(map(int, input().split()))\n",
    "\n",
    "cnt_dict = {} # 빠른 해결을위해 dictionary로 key (숫자) : value(개수) 설정\n",
    "\n",
    "for i in nlist: #nlist를 돌며 nlist 카드 숫자:개수에 대한 딕셔너리 생성\n",
    "    if i in cnt_dict: \n",
    "        cnt_dict[i] += 1 #해당 숫자(key)가 있으면 개수(value)에 +1\n",
    "    else:\n",
    "        cnt_dict[i] = 1 # 없으면 개수 1개로 초기화\n",
    "\n",
    "for i in mlist:\n",
    "    if i in cnt_dict: # cnt_dict에 해당 수가 있으면 개수 출력\n",
    "        print(cnt_dict[i], end=' ') # 없으면 0 출력\n",
    "    else:\n",
    "        print(0, end=' ')"
   ]
  },
  {
   "cell_type": "code",
   "execution_count": null,
   "metadata": {},
   "outputs": [],
   "source": [
    "# https://blog.naver.com/sunghak93/222841007043"
   ]
  },
  {
   "cell_type": "code",
   "execution_count": null,
   "metadata": {},
   "outputs": [],
   "source": [
    "# https://blog.naver.com/hannn03/222885128574\n",
    "# 정렬을 사용하는 코드"
   ]
  },
  {
   "cell_type": "code",
   "execution_count": 2,
   "metadata": {},
   "outputs": [
    {
     "ename": "IndentationError",
     "evalue": "expected an indented block (87912985.py, line 19)",
     "output_type": "error",
     "traceback": [
      "\u001b[1;36m  Cell \u001b[1;32mIn [2], line 19\u001b[1;36m\u001b[0m\n\u001b[1;33m    while index < len(nlist):\u001b[0m\n\u001b[1;37m                             ^\u001b[0m\n\u001b[1;31mIndentationError\u001b[0m\u001b[1;31m:\u001b[0m expected an indented block\n"
     ]
    }
   ],
   "source": [
    "import sys\n",
    "input = sys.stdin.readline\n",
    "\n",
    "n = int(input())\n",
    "n_list = list(map(int, input().split()))\n",
    "m = int(input())\n",
    "m_list = list(map(int, input().split()))\n",
    "hashing = {}\n",
    "\n",
    "for i in n_list:\n",
    "    if i in hashing:\n",
    "        hashing[i] += 1\n",
    "    else:\n",
    "        hashing[i] = 1\n",
    "\n",
    "print(' '.join(str(hashing[j]) if j in hashing else '0' for j in m_list))\n",
    "\n",
    "# 해쉬알고리즘을 이용해 푸는 방법\n",
    "# https://blog.naver.com/hanjo1515/222478105125"
   ]
  },
  {
   "cell_type": "code",
   "execution_count": null,
   "metadata": {},
   "outputs": [],
   "source": []
  }
 ],
 "metadata": {
  "kernelspec": {
   "display_name": "Python 3.9.13 64-bit",
   "language": "python",
   "name": "python3"
  },
  "language_info": {
   "codemirror_mode": {
    "name": "ipython",
    "version": 3
   },
   "file_extension": ".py",
   "mimetype": "text/x-python",
   "name": "python",
   "nbconvert_exporter": "python",
   "pygments_lexer": "ipython3",
   "version": "3.9.13"
  },
  "orig_nbformat": 4,
  "vscode": {
   "interpreter": {
    "hash": "81794d4967e6c3204c66dcd87b604927b115b27c00565d3d43f05ba2f3a2cb0d"
   }
  }
 },
 "nbformat": 4,
 "nbformat_minor": 2
}
