{
 "cells": [
  {
   "cell_type": "markdown",
   "metadata": {},
   "source": [
    "https://www.acmicpc.net/problem/15649\n",
    "\n",
    "[문  제] 15649번 N과 M (1)\n",
    "[유  형] 백트래킹 알고리즘 - 깊이 우선 탐색(DFS)\n",
    "\n",
    "이 문제에서는 백트래킹을 구현하기 위해 DFS를 사용할 것이다.\n",
    "\n",
    "DFS는 스택/큐를 이용하여 구현하는 방법과, 재귀함수를 이용하는 방법이 있다.\n",
    "\n",
    "이 문제에서는 재귀함수를 이용하여 DFS를 구현하였다.\n",
    "\n",
    "​"
   ]
  },
  {
   "cell_type": "code",
   "execution_count": 1,
   "metadata": {},
   "outputs": [
    {
     "name": "stdout",
     "output_type": "stream",
     "text": [
      "['3', '1']\n"
     ]
    }
   ],
   "source": [
    "num = []\n",
    "\n",
    "N= input() # 1~n # 자리 수\n",
    "num.append(N.split())\n",
    "print(num[0])\n",
    "# num[1]"
   ]
  },
  {
   "cell_type": "markdown",
   "metadata": {},
   "source": []
  },
  {
   "cell_type": "code",
   "execution_count": 2,
   "metadata": {},
   "outputs": [
    {
     "name": "stdout",
     "output_type": "stream",
     "text": [
      "3 1\n"
     ]
    }
   ],
   "source": [
    "N= input() \n",
    "a,b = N.split()\n",
    "# print(a, b) \n",
    "\n"
   ]
  },
  {
   "cell_type": "markdown",
   "metadata": {},
   "source": [
    "백트래킹 알고리즘\n",
    "   : 모든 경우를 탐색하며, 조건에 맞지 않으면 다시 back 해서 탐색한다.  트리 탐색 알고리즘에 포함된다.\n",
    "\n",
    "방식에 따라\n",
    "\n",
    "깊이우선탐색(Depth First Search, DFS)\n",
    "너비우선탐색(Breadth First Search, BFS)\n",
    "최선 우선 탐색(Best First Search)\n",
    "을 사용할 수 있다!\n",
    "\n",
    "★백트래킹은 근본적으로는 brute force처럼 모든 걸 탐색하는 걸 기반으로 하지만, \n",
    "\n",
    "트리를 쳐내는 조건 (if break) 때문에 시간적으로 효율적이게 되는 것이다.\n",
    "\n",
    "https://blog.naver.com/willyouspeedup/222848172241\n"
   ]
  },
  {
   "cell_type": "markdown",
   "metadata": {},
   "source": [
    "이 문제는 예시를 잘 봐야한다.\n",
    "n=4라면 1,2,3,4 중 m=4개인 ​모든 순열을 뽑는 것이다.\n",
    "단, 사전식으로 출력해야 한다.\n",
    "\n",
    "​단순히 중첩for문으로 풀면 될 것 같지만,\n",
    "m이 매번 다르기에, 단순히 중첩 for문으로 풀 수 있는 문제가 아니다.\n",
    "m=2라면 중첩for문 2개, m=3이라면 for문이 3개가 생겨버린다. \n",
    "\n",
    "​m에 따라서 중첩for문의 개수가 달라지게 하려면 DFS-재귀함수를 쓰면 된다.\n",
    "이 때, 효율적인 탐색을 위해 1) 이미 뽑힌 수라면 더 탐색하지 말아야 한다. 2) m개가 꽉 차면 더 탐색하지 말아야 한다.\n",
    "\n",
    "이 조건을 달아주는 것을 back tracking 알고리즘이라고 한다.\n",
    "\n",
    "DFS와 백트래킹의 차이점. 둘 다 근본적으로는 모든 경우를 탐색하려 한다. DFS는 정말 모든 경우를 탐색하지만, 백트래킹은 가지치기를 통해 조건에 맞지 않으면 위로 거슬러 올라가서 다시 탐색을 시작한다. 그래서 백트래킹이 시간적으로 효율적이란 것이다.\n",
    "\n",
    "​DFS와 백트래킹의 공통점도 있다. 둘 다 '거슬러 올라가는' 부분이 있다는 것. 다만 DFS는 모든 가지의 끝까지 무조건 다 검사하고, 끝까지 갔을 때만 위로 올라간다. 백트래킹은, 가지치기 조건에 맞지 않으면 끝까지 가는 것을 멈추고 위로 거슬러 올라간다.\n"
   ]
  },
  {
   "cell_type": "code",
   "execution_count": 5,
   "metadata": {},
   "outputs": [
    {
     "data": {
      "text/plain": [
       "[1, 2, 3]"
      ]
     },
     "execution_count": 5,
     "metadata": {},
     "output_type": "execute_result"
    }
   ],
   "source": [
    "n,a = map(int, input().split()) # 1~n # 자리수\n",
    "nums = [_ for _ in range(1, n+1)]\n",
    "nums"
   ]
  },
  {
   "cell_type": "code",
   "execution_count": null,
   "metadata": {},
   "outputs": [],
   "source": [
    "import sys\n",
    "input = sys.stdin.readline\n",
    "\n",
    "#dfs는 깊이 우선 탐색. 재귀 함수로 구현한다. \n",
    "def dfs():\n",
    "    #탐색 종료 조건 (★하나의 dfs가 종료되는 조건)\n",
    "    if len(s)==m:\n",
    "        for i in s:\n",
    "            print(i,end=' ')\n",
    "        print()\n",
    "        return\n",
    "    \n",
    "    #탐색하며 s에 담고 뺴고 하기\n",
    "    for i in range(1,n+1): #i=1,2,3,4\n",
    "        if visited[i-1]==False : #방문하지 않은 경우에만 방문하자\n",
    "            visited[i-1]=True #방문함\n",
    "            s.append(i) #방문함\n",
    "            #값 넣은 다음에 또 탐색 시작\n",
    "            #print(\"i\",i,\"일 때 dfs 실행\") #dfs 재귀 실행될 때 마다 확인하면 좀 더 이해하기 쉽다.\n",
    "            dfs() #재귀함수이기 때문에, 얘는 결국 for문(n) 안에 for문(n)이 쓰이게되는 것. \n",
    "            # n=4이면 4차 for문이 쓰이게 된다. \n",
    "            # 물론 종료 조건이 있기에 n^4는 아니다. 백트래킹(DFS)는 근본적으로는 brute force처럼 모든 걸 탐색하는 걸 기반으로 하지만, 트리를 쳐내는 조건 (if break) 때문에 효율적이게 되는 것이다.\n",
    "            #★여기로 내려왔다는 것은 case 한개가 출력되었다는 것.\n",
    "            s.pop()\n",
    "            visited[i-1]=False\n",
    "            #print(i,s,visited)\n",
    "            #print()\n",
    "            \n",
    "\n",
    "n, m = map(int, input().split())\n",
    "s=[] #각 케이스를 담아줄 리스트. 1234 1243 이렇게 값이 삭제되고 담기고 하면서 진행된다\n",
    "visited=[False]*n #n개만큼 F를 만들어준다. 방문한 상태면 T가 된다.\n",
    "dfs() #탐색 시작"
   ]
  },
  {
   "cell_type": "code",
   "execution_count": null,
   "metadata": {},
   "outputs": [],
   "source": [
    "# -----------------------------"
   ]
  },
  {
   "cell_type": "code",
   "execution_count": null,
   "metadata": {},
   "outputs": [],
   "source": [
    "# [o] 그러나 출제의도에 맞지않음\n",
    "import itertools\n",
    "\n",
    "n, m = map(int, input().split()) #1~n, 자리수\n",
    "nums = [i for i in range(1, n+1)]  #1~n 수를 리스트로 생성\n",
    "\n",
    "array = itertools.permutations(nums, m) # 리스트의 수로 m자리수를 가지는 순열 생성\n",
    "\n",
    "for i in array:\n",
    "    for j in i:\n",
    "        print(j, end = ' ')\n",
    "    print()\n",
    "\n",
    "# https://blog.naver.com/lyg2601/222880797170"
   ]
  },
  {
   "cell_type": "markdown",
   "metadata": {},
   "source": [
    "itertools를 이용해 순열과 조합 구하기\n",
    "A, B, C 라는 세 개의 문자가 있다.\n",
    "이 문자들중 두 개를 무작위로 뽑았을때의 순열과 조합은 어떻게 구하면 될까?\n",
    "\n",
    "\n",
    "순열은 AB, AC, BA, BC, CA, CB 가 될 것이고,\n",
    "조합은 AB, AC, BC 가 될 것이다.\n",
    "\n",
    "파이썬에서는 이를 간단하게 계산해주는 모듈을 제공한다.\n",
    "바로 itertools의 permutations 과 combinations이다.\n",
    "\n",
    "참고로 permutations는 두 번째 인자를 받지 않으면 컨테이너의 전체 길이(예제에서는 3)가 default로 들어가고,\n",
    "combinations는 두 번째 인자를 받지 않으면 동작하지 않는다(에러)"
   ]
  },
  {
   "cell_type": "code",
   "execution_count": 6,
   "metadata": {},
   "outputs": [
    {
     "name": "stdout",
     "output_type": "stream",
     "text": [
      "[('A', 'B'), ('A', 'C'), ('B', 'A'), ('B', 'C'), ('C', 'A'), ('C', 'B')]\n",
      "[('A', 'B'), ('A', 'C'), ('B', 'C')]\n"
     ]
    }
   ],
   "source": [
    "import itertools\n",
    "\n",
    "chars = ['A', 'B', 'C']\n",
    "\n",
    "p = itertools.permutations(chars, 2)  # 순열\n",
    "c = itertools.combinations(chars, 2)  # 조합\n",
    "\n",
    "# 이를 list로 만들어서 출력\n",
    "\n",
    "print(list(p))\n",
    "print(list(c))"
   ]
  },
  {
   "cell_type": "code",
   "execution_count": null,
   "metadata": {},
   "outputs": [],
   "source": [
    "n,m = list(map(int,input().split())) # n : 1~n # m: 수열의 크기 \n",
    " \n",
    "s = []     # 각 케이스를 담아줄 리스트. \n",
    "\n",
    "\n",
    "def dfs(): # dfs는 깊이 우선 탐색. 재귀 함수로 구현. \n",
    "    #탐색 종료 조건\n",
    "    if len(s)==m:            #리스트에 들어간 수열들이 m개가 되면 리스트에 들어있는 숫자들을 모두 출력하고 함수를 빠져나온다.\n",
    "        print(' '.join(map(str,s))) #각 수를 출력할 때 공백을 넣어라\n",
    "        return\n",
    "   \n",
    "    for i in range(1,n+1):    # for문을 이용하여 1부터 n까지의 숫자들을 모두 확인\n",
    "        if i not in s:        # 중복여부 확인\n",
    "            s.append(i)       # 중복이 아니면 숫자를 리스트s에 넣기\n",
    "            dfs()             #현재 s=[1]인 상태에서 다음숫자를 넣기위하여 가지치기하기(재귀함수)\n",
    "            # 즉 결국 for문(n) 안에 for문(n)이 쓰이게되는 것.  n=4이면 4차 for문이 쓰이게 된다. \n",
    "            s.pop() # 해당 케이스의 모든 경우의 수를 출력했으니 삭제.\n",
    " \n",
    "dfs() #재귀함수 호출 => 탐색 시작"
   ]
  },
  {
   "cell_type": "code",
   "execution_count": null,
   "metadata": {},
   "outputs": [],
   "source": [
    "n, m = list(map(int, input().split())) # n : 1~n # m : 수열의 길이 "
   ]
  },
  {
   "cell_type": "markdown",
   "metadata": {},
   "source": [
    "[새롭게 학습한 내용] \n",
    "백트래킹 알고리즘 (Backtracking Algorithm)\n",
    ": 모든 경우를 탐색하며, 조건에 맞지 않으면 다시 back 해서 탐색한다.  트리 탐색 알고리즘에 포함된다.\n",
    "\n",
    "백트래킹은 근본적으로는 brute force처럼 모든 걸 탐색하는 걸 기반으로 하지만, \n",
    "트리를 쳐내는 조건 (if break) 때문에 시간적으로 효율적이게 되는 것이다.\n",
    "\n",
    "방식에 따라\n",
    "깊이우선탐색(Depth First Search, DFS)\n",
    "너비우선탐색(Breadth First Search, BFS)\n",
    "최선 우선 탐색(Best First Search)을 사용할 수 있다!"
   ]
  },
  {
   "cell_type": "markdown",
   "metadata": {},
   "source": [
    "​DFS와 백트래킹의 공통점은 \n",
    "모든 경우를 탐색하려하고, 거슬러 올라가는 부분이 있다는 점이다.\n",
    "\n",
    "차이점은, DFS는 모든 경우를 무조건 다 탐색해서 가지의 끝까지 갔을 때만 위로 올라간다. \n",
    "백트래킹은, 가지치기를 통해 조건에 맞지 않으면 끝까지 가는 것을 멈추고 위로 거슬러 올라가서 다시 탐색을 시작한다. \n",
    "그래서 백트래킹이 시간적으로 효율적이란 것이다.\n"
   ]
  },
  {
   "cell_type": "markdown",
   "metadata": {},
   "source": [
    "m(수열의 길이)이 매번 다르기에, 중첩 for문으로 풀 수 있는 문제가 아니다.\n",
    "m=2라면 중첩for문 2개, m=3이라면 for문이 3개가 생겨버린다. \n",
    "\n",
    "​m에 따라서 중첩for문의 개수가 달라지게 하려면 DFS-재귀함수를 쓰면 된다.\n",
    "이 때, 효율적인 탐색을 위해 1) 이미 뽑힌 수라면 더 탐색하지 말아야 한다. 2) m개가 꽉 차면 더 탐색하지 말아야 한다.\n",
    "\n",
    "이 조건을 달아주는 것을 back tracking 알고리즘이라고 한다.\n",
    "\n",
    "DFS와 백트래킹의 차이점. 둘 다 근본적으로는 모든 경우를 탐색하려 한다. DFS는 정말 모든 경우를 탐색하지만, 백트래킹은 가지치기를 통해 조건에 맞지 않으면 위로 거슬러 올라가서 다시 탐색을 시작한다. 그래서 백트래킹이 시간적으로 효율적이란 것이다.\n",
    "\n",
    "​DFS와 백트래킹의 공통점도 있다. 둘 다 '거슬러 올라가는' 부분이 있다는 것. 다만 DFS는 모든 가지의 끝까지 무조건 다 검사하고, 끝까지 갔을 때만 위로 올라간다. 백트래킹은, 가지치기 조건에 맞지 않으면 끝까지 가는 것을 멈추고 위로 거슬러 올라간다.\n",
    "\n",
    "비효율적인 경로를 차단하고 목표지점에 갈 수 있는 루트를 검사하는 방법이 백트래킹 알고리즘"
   ]
  },
  {
   "cell_type": "markdown",
   "metadata": {},
   "source": [
    "재귀함수\n",
    "https://blog.naver.com/cjy2103/222776932947\n"
   ]
  },
  {
   "cell_type": "markdown",
   "metadata": {},
   "source": [
    "https://velog.io/@gillog/Algorithm-%EC%9E%AC%EA%B7%80%EC%99%80-%EB%B0%98%EB%B3%B5%EB%AC%B8\n",
    "재귀함수 반복문 비교"
   ]
  }
 ],
 "metadata": {
  "kernelspec": {
   "display_name": "Python 3.9.13 64-bit",
   "language": "python",
   "name": "python3"
  },
  "language_info": {
   "codemirror_mode": {
    "name": "ipython",
    "version": 3
   },
   "file_extension": ".py",
   "mimetype": "text/x-python",
   "name": "python",
   "nbconvert_exporter": "python",
   "pygments_lexer": "ipython3",
   "version": "3.9.13"
  },
  "orig_nbformat": 4,
  "vscode": {
   "interpreter": {
    "hash": "81794d4967e6c3204c66dcd87b604927b115b27c00565d3d43f05ba2f3a2cb0d"
   }
  }
 },
 "nbformat": 4,
 "nbformat_minor": 2
}
